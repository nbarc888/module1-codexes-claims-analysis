{
  "cells": [
    {
      "cell_type": "markdown",
      "metadata": {
        "id": "view-in-github",
        "colab_type": "text"
      },
      "source": [
        "<a href=\"https://colab.research.google.com/github/nbarc888/module1-codexes-claims-analysis/blob/main/test_run_507HHAMOD1.ipynb\" target=\"_parent\"><img src=\"https://colab.research.google.com/assets/colab-badge.svg\" alt=\"Open In Colab\"/></a>"
      ]
    },
    {
      "cell_type": "code",
      "execution_count": 1,
      "metadata": {
        "id": "rknSAw9cm02i"
      },
      "outputs": [],
      "source": [
        "# import in pandas, and seaborn"
      ]
    },
    {
      "cell_type": "code",
      "execution_count": 2,
      "metadata": {
        "id": "_gOrsY1Nm_Fu"
      },
      "outputs": [],
      "source": [
        "import pandas as pd"
      ]
    },
    {
      "cell_type": "code",
      "execution_count": 3,
      "metadata": {
        "colab": {
          "base_uri": "https://localhost:8080/"
        },
        "id": "R7mTEVyA9WMm",
        "outputId": "0e365311-b25e-4b55-e0ba-b3e3d23e8825"
      },
      "outputs": [
        {
          "output_type": "stream",
          "name": "stderr",
          "text": [
            "/tmp/ipython-input-3584274181.py:1: DtypeWarning: Columns (172,173,174,175,176,177,178,179,180,181,182,183,184,185,186,187,188,189) have mixed types. Specify dtype option on import or set low_memory=False.\n",
            "  data = pd.read_csv('inpatient.csv', sep='|')\n"
          ]
        }
      ],
      "source": [
        "data = pd.read_csv('inpatient.csv', sep='|')"
      ]
    },
    {
      "cell_type": "code",
      "execution_count": 4,
      "metadata": {
        "colab": {
          "base_uri": "https://localhost:8080/"
        },
        "id": "PbCMa71D9q9g",
        "outputId": "e7851425-108d-4990-e6a4-005311b8ed8a"
      },
      "outputs": [
        {
          "output_type": "stream",
          "name": "stdout",
          "text": [
            "          BENE_ID          CLM_ID NCH_NEAR_LINE_REC_IDENT_CD  NCH_CLM_TYPE_CD  \\\n",
            "0 -10000010254618 -10000930037831                          V               60   \n",
            "1 -10000010254653 -10000930038030                          V               60   \n",
            "2 -10000010254653 -10000930038031                          V               60   \n",
            "3 -10000010254656 -10000930038162                          V               60   \n",
            "4 -10000010254656 -10000930038162                          V               60   \n",
            "\n",
            "   CLM_FROM_DT  CLM_THRU_DT NCH_WKLY_PROC_DT  FI_CLM_PROC_DT  \\\n",
            "0  25-Mar-2015  25-Mar-2015      27-Mar-2015             NaN   \n",
            "1  24-Sep-2015  24-Sep-2015      25-Sep-2015             NaN   \n",
            "2  09-May-2017  10-May-2017      12-May-2017             NaN   \n",
            "3  14-Jan-2017  14-Jan-2017      20-Jan-2017             NaN   \n",
            "4  14-Jan-2017  14-Jan-2017      20-Jan-2017             NaN   \n",
            "\n",
            "   CLAIM_QUERY_CODE PRVDR_NUM  ...  PRCDR_DT24  ICD_PRCDR_CD25  PRCDR_DT25  \\\n",
            "0               3.0    011500  ...         NaN             NaN         NaN   \n",
            "1               3.0    017129  ...         NaN             NaN         NaN   \n",
            "2               3.0    010052  ...         NaN             NaN         NaN   \n",
            "3               3.0    015455  ...         NaN             NaN         NaN   \n",
            "4               3.0    015455  ...         NaN             NaN         NaN   \n",
            "\n",
            "   IME_OP_CLM_VAL_AMT DSH_OP_CLM_VAL_AMT  CLM_UNCOMPD_CARE_PMT_AMT  \\\n",
            "0                 0.0                0.0                       NaN   \n",
            "1                 0.0                0.0                       NaN   \n",
            "2                 0.0                0.0                       NaN   \n",
            "3                 0.0                0.0                       NaN   \n",
            "4                 0.0                0.0                       NaN   \n",
            "\n",
            "   CLM_LINE_NUM REV_CNTR  HCPCS_CD  REV_CNTR_DDCTBL_COINSRNC_CD  \n",
            "0           1.0    450.0     99221                          NaN  \n",
            "1           1.0    450.0     99221                          NaN  \n",
            "2           1.0      1.0     99024                          3.0  \n",
            "3           1.0    450.0     73610                          3.0  \n",
            "4           2.0    450.0     29515                          3.0  \n",
            "\n",
            "[5 rows x 197 columns]\n"
          ]
        }
      ],
      "source": [
        "print(data.head())"
      ]
    },
    {
      "cell_type": "code",
      "execution_count": 5,
      "metadata": {
        "id": "q1zriHoE-Hkl"
      },
      "outputs": [],
      "source": [
        "icd_dgns_cd1 = data['ICD_DGNS_CD1']\n",
        "hcpcs_cd = data['HCPCS_CD']\n",
        "principal_dgns_cd = data['PRNCPAL_DGNS_CD']\n",
        "admit_cd = data['ADMTG_DGNS_CD']\n",
        "clm_data_admsn_type_cd = data['CLM_IP_ADMSN_TYPE_CD']\n",
        "clm_src_ip_admsn_cd = data['CLM_SRC_IP_ADMSN_CD']\n",
        "nch_pnt_stat_ind_cd = data['NCH_PTNT_STATUS_IND_CD']\n",
        "clm_drg_cd = data['CLM_DRG_CD']"
      ]
    },
    {
      "cell_type": "markdown",
      "source": [
        "ICD diagnosis ,HCPCS,  Principal Diagnosis code , Claim Admitting Diagnosis Code, Claim Inpatient Admission Type Code, Claim Source Inpatient Admission Code, NCH Patient Status Indicator Code, Claim Diagnosis Related Group Code"
      ],
      "metadata": {
        "id": "P8iqKjoXrw1t"
      }
    },
    {
      "cell_type": "code",
      "execution_count": 23,
      "metadata": {
        "colab": {
          "base_uri": "https://localhost:8080/"
        },
        "id": "dOpcQIu5-8Ud",
        "outputId": "8f7f8077-53f1-4863-a93e-9e9708c5383c"
      },
      "outputs": [
        {
          "output_type": "stream",
          "name": "stdout",
          "text": [
            "Primary ICD Codes Frequency:\n",
            " ICD_DGNS_CD1\n",
            "Z733      7181\n",
            "Z608      4295\n",
            "T7432X    1996\n",
            "Z604      1889\n",
            "Z940      1439\n",
            "          ... \n",
            "G479         1\n",
            "R739         1\n",
            "Z5900        1\n",
            "C785         1\n",
            "S069         1\n",
            "Name: count, Length: 203, dtype: int64\n"
          ]
        }
      ],
      "source": [
        "icd_frequency = icd_dgns_cd1.value_counts()\n",
        "print(\"Primary ICD Codes Frequency:\\n\", icd_frequency)"
      ]
    },
    {
      "cell_type": "code",
      "source": [
        "hcpcs_frequency = hcpcs_cd.value_counts()\n",
        "print(\"HCPCS Code Frequency:\\n\", hcpcs_frequency)"
      ],
      "metadata": {
        "colab": {
          "base_uri": "https://localhost:8080/"
        },
        "id": "8NI8h-Zoc6ii",
        "outputId": "1232672f-6aef-423b-96f9-dab87e17cbd0"
      },
      "execution_count": 22,
      "outputs": [
        {
          "output_type": "stream",
          "name": "stdout",
          "text": [
            "HCPCS Code Frequency:\n",
            " HCPCS_CD\n",
            "99221    4282\n",
            "G0444    4269\n",
            "96156    2710\n",
            "99495    2065\n",
            "99408    2007\n",
            "         ... \n",
            "S2404       1\n",
            "S9351       1\n",
            "S9349       1\n",
            "S9361       1\n",
            "G9530       1\n",
            "Name: count, Length: 98, dtype: int64\n"
          ]
        }
      ]
    },
    {
      "cell_type": "code",
      "source": [
        "principal_dgns_cd_frequency = principal_dgns_cd.value_counts()\n",
        "print(\"Principal Diagnosis Codes Frequency:\\n\", principal_dgns_cd_frequency)"
      ],
      "metadata": {
        "colab": {
          "base_uri": "https://localhost:8080/"
        },
        "id": "ajKvBz1Kig7P",
        "outputId": "93ed675f-70dc-49fe-8a55-6771804bdff6"
      },
      "execution_count": 15,
      "outputs": [
        {
          "output_type": "stream",
          "name": "stdout",
          "text": [
            "Principal Diagnosis Codes Frequency:\n",
            " PRNCPAL_DGNS_CD\n",
            "Z733      6382\n",
            "Z608      3706\n",
            "T7432X    1790\n",
            "Z604      1728\n",
            "Z7682     1581\n",
            "          ... \n",
            "E849         1\n",
            "A4152        1\n",
            "J302         1\n",
            "G43C1        1\n",
            "O00109       1\n",
            "Name: count, Length: 171, dtype: int64\n"
          ]
        }
      ]
    },
    {
      "cell_type": "code",
      "source": [
        "admit_cd_frequency = admit_cd.value_counts()\n",
        "print(\"Claim Admitting Diagnosis Codes Frequency:\\n\", admit_cd_frequency)"
      ],
      "metadata": {
        "colab": {
          "base_uri": "https://localhost:8080/"
        },
        "id": "o1hzcLbOimec",
        "outputId": "a330b4d4-f01f-4294-e279-7126c4901ae8"
      },
      "execution_count": 16,
      "outputs": [
        {
          "output_type": "stream",
          "name": "stdout",
          "text": [
            "Claim Admitting Diagnosis Codes Frequency:\n",
            " ADMTG_DGNS_CD\n",
            "Z7682      1473\n",
            "T50901A    1270\n",
            "Z951       1013\n",
            "C3490       743\n",
            "Z95818      550\n",
            "           ... \n",
            "I25700        1\n",
            "I248          1\n",
            "E849          1\n",
            "A4152         1\n",
            "O00109        1\n",
            "Name: count, Length: 62, dtype: int64\n"
          ]
        }
      ]
    },
    {
      "cell_type": "code",
      "source": [
        "clm_data_admsn_type_cd_frequency = clm_data_admsn_type_cd.value_counts()\n",
        "print(\"Claim Inpatient Admission Type Codes Frequency:\\n\", clm_data_admsn_type_cd_frequency)"
      ],
      "metadata": {
        "colab": {
          "base_uri": "https://localhost:8080/"
        },
        "id": "Xe2ctAvbipdF",
        "outputId": "9bd35a63-2b4b-4316-a8b8-0d069b363ea6"
      },
      "execution_count": 17,
      "outputs": [
        {
          "output_type": "stream",
          "name": "stdout",
          "text": [
            "Claim Inpatient Admission Type Codes Frequency:\n",
            " CLM_IP_ADMSN_TYPE_CD\n",
            "1.0    22413\n",
            "3.0     7903\n",
            "2.0      446\n",
            "Name: count, dtype: int64\n"
          ]
        }
      ]
    },
    {
      "cell_type": "code",
      "source": [
        "clm_src_ip_admsn_cd_frequency = clm_src_ip_admsn_cd.value_counts()\n",
        "print(\"Claim Source Inpatient Admission Codes Frequency:\\n\", clm_src_ip_admsn_cd_frequency)"
      ],
      "metadata": {
        "colab": {
          "base_uri": "https://localhost:8080/"
        },
        "id": "BXYh5ORRitf-",
        "outputId": "4e73056e-5258-4cbe-afbc-5b2bbfc047af"
      },
      "execution_count": 18,
      "outputs": [
        {
          "output_type": "stream",
          "name": "stdout",
          "text": [
            "Claim Source Inpatient Admission Codes Frequency:\n",
            " CLM_SRC_IP_ADMSN_CD\n",
            "5.0    8049\n",
            "1.0    7768\n",
            "4.0    7665\n",
            "2.0    7280\n",
            "Name: count, dtype: int64\n"
          ]
        }
      ]
    },
    {
      "cell_type": "code",
      "source": [
        "nch_pnt_stat_ind_cd_frequency = nch_pnt_stat_ind_cd.value_counts()\n",
        "print(\"NCH Patient Status Indicator Codes Frequency:\\n\", nch_pnt_stat_ind_cd_frequency)"
      ],
      "metadata": {
        "colab": {
          "base_uri": "https://localhost:8080/"
        },
        "id": "3WxyIiQqizq-",
        "outputId": "b979dbd1-3886-47eb-f1ff-f76e8e92c805"
      },
      "execution_count": 19,
      "outputs": [
        {
          "output_type": "stream",
          "name": "stdout",
          "text": [
            "NCH Patient Status Indicator Codes Frequency:\n",
            " NCH_PTNT_STATUS_IND_CD\n",
            "A    30762\n",
            "Name: count, dtype: int64\n"
          ]
        }
      ]
    },
    {
      "cell_type": "code",
      "source": [
        "clm_drg_cd_frequency = clm_drg_cd.value_counts()\n",
        "print(\"Claim Diagnosis Related Group Codes Frequency:\\n\", clm_drg_cd_frequency)"
      ],
      "metadata": {
        "colab": {
          "base_uri": "https://localhost:8080/"
        },
        "id": "5z5Q7AXni5G6",
        "outputId": "a21d88f0-ef23-4f72-8767-6b89be1d78ea"
      },
      "execution_count": 20,
      "outputs": [
        {
          "output_type": "stream",
          "name": "stdout",
          "text": [
            "Claim Diagnosis Related Group Codes Frequency:\n",
            " CLM_DRG_CD\n",
            "951.0    15517\n",
            "950.0      809\n",
            "949.0      683\n",
            "923.0      570\n",
            "922.0      560\n",
            "         ...  \n",
            "871.0        2\n",
            "770.0        1\n",
            "870.0        1\n",
            "872.0        1\n",
            "819.0        1\n",
            "Name: count, Length: 153, dtype: int64\n"
          ]
        }
      ]
    },
    {
      "cell_type": "code",
      "source": [
        "missing_icd = icd_dgns_cd1.isnull().sum()\n",
        "missing_hcpcs = hcpcs_cd.isnull().sum()\n",
        "missing_principal_dgns_cd = principal_dgns_cd.isnull().sum()\n",
        "missing_admit_cd = admit_cd.isnull().sum()\n",
        "missing_clm_data_admsn_type_cd = clm_data_admsn_type_cd.isnull().sum()\n",
        "missing_clm_src_ip_admsn_cd = clm_src_ip_admsn_cd.isnull().sum()\n",
        "missing_nch_pnt_stat_ind_cd = nch_pnt_stat_ind_cd.isnull().sum()\n",
        "missing_clm_drg_cd = clm_drg_cd.isnull().sum()"
      ],
      "metadata": {
        "id": "GIoQVzt6eB03"
      },
      "execution_count": 21,
      "outputs": []
    },
    {
      "cell_type": "code",
      "source": [
        "print(f\"Missing ICD Codes: {missing_icd}\")\n",
        "print(f\"Missing HCPCS Codes: {missing_hcpcs}\")\n",
        "print(f\"Missing Principal Diagnosis Codes: {missing_principal_dgns_cd}\")\n",
        "print(f\"Missing Claim Admitting Diagnosis Codes: {missing_admit_cd}\")\n",
        "print(f\"Missing Claim Inpatient Admission Type Codes: {missing_clm_data_admsn_type_cd}\")\n",
        "print(f\"Missing Claim Source Inpatient Admission Codes: {missing_clm_src_ip_admsn_cd}\")\n",
        "print(f\"Missing NCH Patient Status Indicator Codes: {missing_nch_pnt_stat_ind_cd}\")\n",
        "print(f\"Missing Claim Diagnosis Related Group Codes: {missing_clm_drg_cd}\")"
      ],
      "metadata": {
        "colab": {
          "base_uri": "https://localhost:8080/"
        },
        "id": "0qptc0vveTZl",
        "outputId": "b8b54649-49fd-4d42-d2d9-3add762b9546"
      },
      "execution_count": 30,
      "outputs": [
        {
          "output_type": "stream",
          "name": "stdout",
          "text": [
            "Missing ICD Codes: 1\n",
            "Missing HCPCS Codes: 1\n",
            "Missing Principal Diagnosis Codes: 1\n",
            "Missing Claim Admitting Diagnosis Codes: 22042\n",
            "Missing Claim Inpatient Admission Type Codes: 1\n",
            "Missing Claim Source Inpatient Admission Codes: 1\n",
            "Missing NCH Patient Status Indicator Codes: 1\n",
            "Missing Claim Diagnosis Related Group Codes: 1655\n"
          ]
        }
      ]
    },
    {
      "cell_type": "code",
      "execution_count": 29,
      "metadata": {
        "colab": {
          "base_uri": "https://localhost:8080/"
        },
        "id": "aCRcskMhBeD5",
        "outputId": "4389f10e-2e58-4a4d-b04a-a72068003a69"
      },
      "outputs": [
        {
          "output_type": "stream",
          "name": "stdout",
          "text": [
            "Top 5 Most Common ICD Codes:\n",
            " ICD_DGNS_CD1\n",
            "Z733      7181\n",
            "Z608      4295\n",
            "T7432X    1996\n",
            "Z604      1889\n",
            "Z940      1439\n",
            "Name: count, dtype: int64\n",
            "Top 5 Most Common HCPCS Codes:\n",
            " HCPCS_CD\n",
            "99221    4282\n",
            "G0444    4269\n",
            "96156    2710\n",
            "99495    2065\n",
            "99408    2007\n",
            "Name: count, dtype: int64\n",
            "Top 5 Most Common Principal Diagnosis Codes:\n",
            " PRNCPAL_DGNS_CD\n",
            "Z733      6382\n",
            "Z608      3706\n",
            "T7432X    1790\n",
            "Z604      1728\n",
            "Z7682     1581\n",
            "Name: count, dtype: int64\n",
            "Top 5 Most Common Claim Admitting Diagnosis Codes:\n",
            " ADMTG_DGNS_CD\n",
            "Z7682      1473\n",
            "T50901A    1270\n",
            "Z951       1013\n",
            "C3490       743\n",
            "Z95818      550\n",
            "Name: count, dtype: int64\n",
            "Top 5 Most Common Claim Inpatient Admission Type Codes:\n",
            " CLM_IP_ADMSN_TYPE_CD\n",
            "1.0    22413\n",
            "3.0     7903\n",
            "2.0      446\n",
            "Name: count, dtype: int64\n",
            "Top 5 Most Common Claim Source Inpatient Admission Codes:\n",
            " CLM_SRC_IP_ADMSN_CD\n",
            "5.0    8049\n",
            "1.0    7768\n",
            "4.0    7665\n",
            "2.0    7280\n",
            "Name: count, dtype: int64\n",
            "Top 5 Most Common NCH patient status indicator codes:\n",
            " NCH_PTNT_STATUS_IND_CD\n",
            "A    30762\n",
            "Name: count, dtype: int64\n",
            "Top 5 Most Common Claim Diagnosis Related Groups:\n",
            " CLM_DRG_CD\n",
            "951.0    15517\n",
            "950.0      809\n",
            "949.0      683\n",
            "923.0      570\n",
            "922.0      560\n",
            "Name: count, dtype: int64\n"
          ]
        }
      ],
      "source": [
        "print(\"Top 5 Most Common ICD Codes:\\n\", icd_frequency.head())\n",
        "print(\"Top 5 Most Common HCPCS Codes:\\n\", hcpcs_frequency.head())\n",
        "print(\"Top 5 Most Common Principal Diagnosis Codes:\\n\", principal_dgns_cd_frequency.head())\n",
        "print(\"Top 5 Most Common Claim Admitting Diagnosis Codes:\\n\", admit_cd_frequency.head())\n",
        "print(\"Top 5 Most Common Claim Inpatient Admission Type Codes:\\n\", clm_data_admsn_type_cd_frequency.head())\n",
        "print(\"Top 5 Most Common Claim Source Inpatient Admission Codes:\\n\", clm_src_ip_admsn_cd_frequency.head())\n",
        "print(\"Top 5 Most Common NCH patient status indicator codes:\\n\", nch_pnt_stat_ind_cd_frequency.head())\n",
        "print(\"Top 5 Most Common Claim Diagnosis Related Groups:\\n\", clm_drg_cd_frequency.head())"
      ]
    }
  ],
  "metadata": {
    "colab": {
      "provenance": [],
      "authorship_tag": "ABX9TyNkg+1dE8PqPDMwUqAYsz6Y",
      "include_colab_link": true
    },
    "kernelspec": {
      "display_name": "Python 3",
      "name": "python3"
    },
    "language_info": {
      "name": "python"
    }
  },
  "nbformat": 4,
  "nbformat_minor": 0
}